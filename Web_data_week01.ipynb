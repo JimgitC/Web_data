{
 "cells": [
  {
   "cell_type": "code",
   "execution_count": 6,
   "metadata": {
    "collapsed": true
   },
   "outputs": [
    {
     "name": "stdout",
     "output_type": "stream",
     "text": [
      "工作 手游产品运营经理\n",
      "工作 {'https://www.liepin.com/job/1916599857.shtml'}\n",
      "工作 产品经理/产品工程师\n",
      "工作 {'https://www.liepin.com/job/1912074862.shtml'}\n",
      "工作 销售经理（公寓产品）\n",
      "工作 {'https://www.liepin.com/job/1915824093.shtml'}\n",
      "工作 产品主管/经理\n",
      "工作 {'https://www.liepin.com/job/1926833823.shtml'}\n",
      "工作 产品经理\n",
      "工作 {'https://www.liepin.com/job/1926836871.shtml'}\n",
      "工作 银行产品经理\n",
      "工作 {'https://www.liepin.com/job/1926801671.shtml'}\n",
      "工作 助理产品经理/产品经理\n",
      "工作 {'https://www.liepin.com/job/1926765431.shtml'}\n",
      "工作 BI产品经理（投研大数据）\n",
      "工作 {'https://www.liepin.com/job/1926843083.shtml'}\n",
      "工作 后装产品经理(J10475)\n",
      "工作 {'https://www.liepin.com/job/1926842751.shtml'}\n",
      "工作 软件产品经理(J10474)\n",
      "工作 {'https://www.liepin.com/job/1926842665.shtml'}\n",
      "工作 产业业务部-产品经理岗\n",
      "工作 {'https://www.liepin.com/job/1926838911.shtml'}\n",
      "工作 产品经理\n",
      "工作 {'https://www.liepin.com/job/1926837003.shtml'}\n",
      "工作 风险产品经理\n",
      "工作 {'https://www.liepin.com/job/1926824701.shtml'}\n",
      "工作 GIS产品经理\n",
      "工作 {'https://www.liepin.com/job/1926820317.shtml'}\n",
      "工作 万达普惠-互联网产品经理\n",
      "工作 {'https://www.liepin.com/job/1926816405.shtml'}\n",
      "工作 专利产品经理\n",
      "工作 {'https://www.liepin.com/job/1926787487.shtml'}\n",
      "工作 产品经理助理\n",
      "工作 {'https://www.liepin.com/job/1926714491.shtml'}\n",
      "工作 产品设计经理\n",
      "工作 {'https://www.liepin.com/job/1926670753.shtml'}\n",
      "工作 产品经理助理\n",
      "工作 {'https://www.liepin.com/job/1926658233.shtml'}\n",
      "工作 高级产品经理\n",
      "工作 {'https://www.liepin.com/job/1925362781.shtml'}\n",
      "工作 产品经理\n",
      "工作 {'https://www.liepin.com/job/1925206267.shtml'}\n",
      "工作 硬件产品经理（选品方向）\n",
      "工作 {'https://www.liepin.com/job/1920715073.shtml'}\n",
      "工作 产品引入商务经理\n",
      "工作 {'https://www.liepin.com/job/1916909411.shtml'}\n",
      "工作 对公产品经理（投行、贸融、网金、离岸、信托）\n",
      "工作 {'https://www.liepin.com/job/199532676.shtml'}\n",
      "工作 旅游产品经理\n",
      "工作 {'https://www.liepin.com/job/1926703515.shtml'}\n",
      "工作 资深产品经理（丁香医生）\n",
      "工作 {'https://www.liepin.com/job/1926237339.shtml'}\n",
      "工作 产品经理\n",
      "工作 {'https://www.liepin.com/job/1926150571.shtml'}\n",
      "工作 互联网产品经理\n",
      "工作 {'https://www.liepin.com/job/1926483249.shtml'}\n",
      "工作 产品经理\n",
      "工作 {'https://www.liepin.com/job/1919949395.shtml'}\n",
      "工作 产品经理\n",
      "工作 {'https://www.liepin.com/job/1918768733.shtml'}\n",
      "工作 产品运营副经理\n",
      "工作 {'https://www.liepin.com/job/1926717557.shtml'}\n",
      "工作 高级产品经理（南昌）\n",
      "工作 {'https://www.liepin.com/job/1926765351.shtml'}\n",
      "工作 教育产品经理\n",
      "工作 {'https://www.liepin.com/job/1926759001.shtml'}\n",
      "工作 产品经理\n",
      "工作 {'https://www.liepin.com/job/1925942641.shtml'}\n",
      "工作 产品经理\n",
      "工作 {'https://www.liepin.com/job/1924135939.shtml'}\n",
      "工作 产品经理/高级产品经理/Product Manager\n",
      "工作 {'https://www.liepin.com/job/1926765575.shtml'}\n",
      "工作 产品经理（可视化）\n",
      "工作 {'https://www.liepin.com/job/1924693097.shtml'}\n",
      "工作 产品经理（精益相关）\n",
      "工作 {'https://www.liepin.com/job/1926741987.shtml'}\n",
      "工作 产品经理\n",
      "工作 {'https://www.liepin.com/job/1926740027.shtml'}\n",
      "工作 机器人云平台产品经理\n",
      "工作 {'https://www.liepin.com/job/1926739753.shtml'}\n"
     ]
    }
   ],
   "source": [
    "#通过调用request_html模块\n",
    "\n",
    "from requests_html import HTMLSession\n",
    "\n",
    "session = HTMLSession()\n",
    "\n",
    "r = session.get(\"https://www.liepin.com/zhaopin/?key=产品经理\")\n",
    "\n",
    "#通过xpath找到工作名称的标签\n",
    "\n",
    "news = r.html.xpath('//div[@class=\"job-info\"]/h3/a')\n",
    "\n",
    "for new in news:\n",
    "    print(\"工作\",new.text)  #get工作名称的text标签内容\n",
    "    print(\"工作\",new.absolute_links) # 用absolute_links 转换成url形式"
   ]
  },
  {
   "cell_type": "code",
   "execution_count": 9,
   "metadata": {
    "collapsed": true
   },
   "outputs": [
    {
     "name": "stdout",
     "output_type": "stream",
     "text": [
      "标题： 为什么阿里喜欢全面并购，腾讯喜欢战略投资？\n",
      "链接： {'https://news.cnblogs.com/n/658059/'}\n",
      "标题： 从百度掉队谈起：给百度开药，其实只有一条\n",
      "链接： {'https://news.cnblogs.com/n/658007/'}\n",
      "标题： 支付宝若要击败美团，难度到底有多大？\n",
      "链接： {'https://news.cnblogs.com/n/658006/'}\n",
      "标题： 追踪网赚游戏：是谁割了你，而你又割了谁？\n",
      "链接： {'https://news.cnblogs.com/n/657964/'}\n",
      "标题： 成本480万的《三体》改编动画，如何做到9.9分？\n",
      "链接： {'https://news.cnblogs.com/n/657962/'}\n",
      "标题： 互联网公司的灰色战争\n",
      "链接： {'https://news.cnblogs.com/n/657960/'}\n",
      "标题： 图灵奖背后：一个奥斯卡拿到手软，一个公司卖了160亿\n",
      "链接： {'https://news.cnblogs.com/n/657944/'}\n",
      "标题： 一个叫“郭红”的人 炮制了朋友圈所有的“世界失控”\n",
      "链接： {'https://news.cnblogs.com/n/657930/'}\n",
      "标题： .NET 5 Preview 1 发布\n",
      "链接： {'https://news.cnblogs.com/n/657924/'}\n",
      "标题： 一堂司法网课和它的主讲老师为什么突然火了？\n",
      "链接： {'https://news.cnblogs.com/n/657877/'}\n",
      "标题： 丑闻上身Soul：我本小师妹，怎么就活成了灭绝师太？\n",
      "链接： {'https://news.cnblogs.com/n/657875/'}\n",
      "标题： GitHub移动应用正式上架 不可编辑代码，支持“社交”\n",
      "链接： {'https://news.cnblogs.com/n/657863/'}\n",
      "标题： Visual Studio 2019 16.5 发布\n",
      "链接： {'https://news.cnblogs.com/n/657861/'}\n",
      "标题： 雷军的贪婪时刻：两个月密集投资8家芯片公司\n",
      "链接： {'https://news.cnblogs.com/n/657860/'}\n",
      "标题： 沸腾十年：不可逆转的国产替代潮\n",
      "链接： {'https://news.cnblogs.com/n/657848/'}\n",
      "标题： 代码变油画，精细到毛发，让美术设计也惊叹\n",
      "链接： {'https://news.cnblogs.com/n/657838/'}\n",
      "标题： 为什么我从来不教人赚钱\n",
      "链接： {'https://news.cnblogs.com/n/657820/'}\n",
      "标题： 手机发布会为什么越来越无聊了？\n",
      "链接： {'https://news.cnblogs.com/n/657822/'}\n"
     ]
    }
   ],
   "source": [
    "# 00：使用request_html模块来调用HTMLSession函数\n",
    "from requests_html import HTMLSession\n",
    "# 01：使用session 给定一个url()\n",
    "session = HTMLSession()\n",
    "r = session.get(\"https://news.cnblogs.com/n/recommend\")\n",
    "\n",
    "# 02：使用.find 开始去爬取想要的东西（其他：CSS select）\n",
    "# 通过CSS找到新闻中 a 标签\n",
    "news = r.html.find('h2.news_entry > a')\n",
    "\n",
    "# 03：输出结果哟\n",
    "for new in news:\n",
    "    print(\"标题：\",new.text)  #获得新闻标签的text\n",
    "    print(\"链接：\",new.absolute_links)  #获得新闻的url"
   ]
  },
  {
   "cell_type": "markdown",
   "metadata": {},
   "source": [
    "### jupyter可用的魔法之一 IPython展示模块，HTML转码\n",
    "  + 留作以后为自己的数据“讲故事”用"
   ]
  },
  {
   "cell_type": "code",
   "execution_count": 28,
   "metadata": {},
   "outputs": [
    {
     "data": {
      "text/html": [
       "<img src=\"https://httpstatusdogs.com/img/418.jpg\" alt=\"\">"
      ],
      "text/plain": [
       "<IPython.core.display.HTML object>"
      ]
     },
     "metadata": {},
     "output_type": "display_data"
    }
   ],
   "source": [
    "from IPython.core.display import display,HTML,Markdown\n",
    "display(HTML('<img src=\"https://httpstatusdogs.com/img/418.jpg\" alt=\"\">'))"
   ]
  },
  {
   "cell_type": "code",
   "execution_count": 30,
   "metadata": {
    "collapsed": true
   },
   "outputs": [
    {
     "name": "stdout",
     "output_type": "stream",
     "text": [
      "data:image/png;base64,iVBORw0KGgoAAAANSUhEUgAAAAEAAAABCAQAAAC1HAwCAAAAC0lEQVR42mNgYAAAAAMAASsJTYQAAAAASUVORK5CYII=\n"
     ]
    },
    {
     "data": {
      "text/markdown": [
       "![](data:image/png;base64,iVBORw0KGgoAAAANSUhEUgAAAAEAAAABCAQAAAC1HAwCAAAAC0lEQVR42mNgYAAAAAMAASsJTYQAAAAASUVORK5CYII=)"
      ],
      "text/plain": [
       "<IPython.core.display.Markdown object>"
      ]
     },
     "metadata": {},
     "output_type": "display_data"
    },
    {
     "name": "stdout",
     "output_type": "stream",
     "text": [
      "https://tse1-mm.cn.bing.net/th/id/OET.2aa2a3766b5d4d2d9d9fed3d713f33eb?w=272&h=272&c=7&rs=1&o=5&pid=1.9\n"
     ]
    },
    {
     "data": {
      "text/markdown": [
       "![](https://tse1-mm.cn.bing.net/th/id/OET.2aa2a3766b5d4d2d9d9fed3d713f33eb?w=272&h=272&c=7&rs=1&o=5&pid=1.9)"
      ],
      "text/plain": [
       "<IPython.core.display.Markdown object>"
      ]
     },
     "metadata": {},
     "output_type": "display_data"
    },
    {
     "name": "stdout",
     "output_type": "stream",
     "text": [
      "https://tse1-mm.cn.bing.net/th/id/OET.3886c7bdd81240f3abe5f8f8cee4fa0e?w=272&h=135&c=7&rs=1&o=5&pid=1.9\n"
     ]
    },
    {
     "data": {
      "text/markdown": [
       "![](https://tse1-mm.cn.bing.net/th/id/OET.3886c7bdd81240f3abe5f8f8cee4fa0e?w=272&h=135&c=7&rs=1&o=5&pid=1.9)"
      ],
      "text/plain": [
       "<IPython.core.display.Markdown object>"
      ]
     },
     "metadata": {},
     "output_type": "display_data"
    },
    {
     "name": "stdout",
     "output_type": "stream",
     "text": [
      "https://tse1-mm.cn.bing.net/th/id/OET.9fcacf06eb3d40fd8569effcff00fe5e?w=272&h=135&c=7&rs=1&o=5&pid=1.9\n"
     ]
    },
    {
     "data": {
      "text/markdown": [
       "![](https://tse1-mm.cn.bing.net/th/id/OET.9fcacf06eb3d40fd8569effcff00fe5e?w=272&h=135&c=7&rs=1&o=5&pid=1.9)"
      ],
      "text/plain": [
       "<IPython.core.display.Markdown object>"
      ]
     },
     "metadata": {},
     "output_type": "display_data"
    },
    {
     "name": "stdout",
     "output_type": "stream",
     "text": [
      "https://tse1-mm.cn.bing.net/th/id/OET.ff4be71371bc4e77a530d8710d68b450?w=272&h=135&c=7&rs=1&o=5&pid=1.9\n"
     ]
    },
    {
     "data": {
      "text/markdown": [
       "![](https://tse1-mm.cn.bing.net/th/id/OET.ff4be71371bc4e77a530d8710d68b450?w=272&h=135&c=7&rs=1&o=5&pid=1.9)"
      ],
      "text/plain": [
       "<IPython.core.display.Markdown object>"
      ]
     },
     "metadata": {},
     "output_type": "display_data"
    },
    {
     "name": "stdout",
     "output_type": "stream",
     "text": [
      "https://tse1-mm.cn.bing.net/th/id/OET.4d9a5ae6f27547e7b4b5436509e443ed?w=272&h=135&c=7&rs=1&o=5&pid=1.9\n"
     ]
    },
    {
     "data": {
      "text/markdown": [
       "![](https://tse1-mm.cn.bing.net/th/id/OET.4d9a5ae6f27547e7b4b5436509e443ed?w=272&h=135&c=7&rs=1&o=5&pid=1.9)"
      ],
      "text/plain": [
       "<IPython.core.display.Markdown object>"
      ]
     },
     "metadata": {},
     "output_type": "display_data"
    },
    {
     "name": "stdout",
     "output_type": "stream",
     "text": [
      "https://tse1-mm.cn.bing.net/th/id/OET.b4631c5bfcfc46f8b435456813f6867d?w=272&h=135&c=7&rs=1&o=5&pid=1.9\n"
     ]
    },
    {
     "data": {
      "text/markdown": [
       "![](https://tse1-mm.cn.bing.net/th/id/OET.b4631c5bfcfc46f8b435456813f6867d?w=272&h=135&c=7&rs=1&o=5&pid=1.9)"
      ],
      "text/plain": [
       "<IPython.core.display.Markdown object>"
      ]
     },
     "metadata": {},
     "output_type": "display_data"
    },
    {
     "name": "stdout",
     "output_type": "stream",
     "text": [
      "https://tse1-mm.cn.bing.net/th/id/OET.27c986d8239a4d23875622c8e5791eda?w=272&h=135&c=7&rs=1&o=5&pid=1.9\n"
     ]
    },
    {
     "data": {
      "text/markdown": [
       "![](https://tse1-mm.cn.bing.net/th/id/OET.27c986d8239a4d23875622c8e5791eda?w=272&h=135&c=7&rs=1&o=5&pid=1.9)"
      ],
      "text/plain": [
       "<IPython.core.display.Markdown object>"
      ]
     },
     "metadata": {},
     "output_type": "display_data"
    },
    {
     "name": "stdout",
     "output_type": "stream",
     "text": [
      "https://tse1-mm.cn.bing.net/th/id/OET.53867c33c4b544bcb1d1816b0d999e4c?w=135&h=135&c=7&rs=1&o=5&pid=1.9\n"
     ]
    },
    {
     "data": {
      "text/markdown": [
       "![](https://tse1-mm.cn.bing.net/th/id/OET.53867c33c4b544bcb1d1816b0d999e4c?w=135&h=135&c=7&rs=1&o=5&pid=1.9)"
      ],
      "text/plain": [
       "<IPython.core.display.Markdown object>"
      ]
     },
     "metadata": {},
     "output_type": "display_data"
    },
    {
     "name": "stdout",
     "output_type": "stream",
     "text": [
      "https://tse1-mm.cn.bing.net/th/id/OET.366d0d10b68e4b839d1f4bba028ccd23?w=135&h=135&c=7&rs=1&o=5&pid=1.9\n"
     ]
    },
    {
     "data": {
      "text/markdown": [
       "![](https://tse1-mm.cn.bing.net/th/id/OET.366d0d10b68e4b839d1f4bba028ccd23?w=135&h=135&c=7&rs=1&o=5&pid=1.9)"
      ],
      "text/plain": [
       "<IPython.core.display.Markdown object>"
      ]
     },
     "metadata": {},
     "output_type": "display_data"
    },
    {
     "name": "stdout",
     "output_type": "stream",
     "text": [
      "https://tse1-mm.cn.bing.net/th/id/OET.020bc8604f2d4a188971fcb17aa8a905?w=135&h=135&c=7&rs=1&o=5&pid=1.9\n"
     ]
    },
    {
     "data": {
      "text/markdown": [
       "![](https://tse1-mm.cn.bing.net/th/id/OET.020bc8604f2d4a188971fcb17aa8a905?w=135&h=135&c=7&rs=1&o=5&pid=1.9)"
      ],
      "text/plain": [
       "<IPython.core.display.Markdown object>"
      ]
     },
     "metadata": {},
     "output_type": "display_data"
    },
    {
     "name": "stdout",
     "output_type": "stream",
     "text": [
      "https://tse1-mm.cn.bing.net/th/id/OET.9982eecb74f243d2a805c077d0466fb6?w=135&h=135&c=7&rs=1&o=5&pid=1.9\n"
     ]
    },
    {
     "data": {
      "text/markdown": [
       "![](https://tse1-mm.cn.bing.net/th/id/OET.9982eecb74f243d2a805c077d0466fb6?w=135&h=135&c=7&rs=1&o=5&pid=1.9)"
      ],
      "text/plain": [
       "<IPython.core.display.Markdown object>"
      ]
     },
     "metadata": {},
     "output_type": "display_data"
    },
    {
     "name": "stdout",
     "output_type": "stream",
     "text": [
      "https://tse1-mm.cn.bing.net/th/id/OET.ac947abd05814bb28329fdf32965e239?w=272&h=272&c=7&rs=1&o=5&pid=1.9\n"
     ]
    },
    {
     "data": {
      "text/markdown": [
       "![](https://tse1-mm.cn.bing.net/th/id/OET.ac947abd05814bb28329fdf32965e239?w=272&h=272&c=7&rs=1&o=5&pid=1.9)"
      ],
      "text/plain": [
       "<IPython.core.display.Markdown object>"
      ]
     },
     "metadata": {},
     "output_type": "display_data"
    },
    {
     "name": "stdout",
     "output_type": "stream",
     "text": [
      "https://tse1-mm.cn.bing.net/th/id/OET.d614e356ff3648ea8385bcd68546a74c?w=135&h=272&c=7&rs=1&o=5&pid=1.9\n"
     ]
    },
    {
     "data": {
      "text/markdown": [
       "![](https://tse1-mm.cn.bing.net/th/id/OET.d614e356ff3648ea8385bcd68546a74c?w=135&h=272&c=7&rs=1&o=5&pid=1.9)"
      ],
      "text/plain": [
       "<IPython.core.display.Markdown object>"
      ]
     },
     "metadata": {},
     "output_type": "display_data"
    },
    {
     "name": "stdout",
     "output_type": "stream",
     "text": [
      "https://tse1-mm.cn.bing.net/th/id/OET.e25f83524d9f4a868bdbdf1919dec3c0?w=135&h=272&c=7&rs=1&o=5&pid=1.9\n"
     ]
    },
    {
     "data": {
      "text/markdown": [
       "![](https://tse1-mm.cn.bing.net/th/id/OET.e25f83524d9f4a868bdbdf1919dec3c0?w=135&h=272&c=7&rs=1&o=5&pid=1.9)"
      ],
      "text/plain": [
       "<IPython.core.display.Markdown object>"
      ]
     },
     "metadata": {},
     "output_type": "display_data"
    },
    {
     "name": "stdout",
     "output_type": "stream",
     "text": [
      "https://tse1-mm.cn.bing.net/th/id/OET.938d4544da29427fa7278cb7c7351fb6?w=135&h=272&c=7&rs=1&o=5&pid=1.9\n"
     ]
    },
    {
     "data": {
      "text/markdown": [
       "![](https://tse1-mm.cn.bing.net/th/id/OET.938d4544da29427fa7278cb7c7351fb6?w=135&h=272&c=7&rs=1&o=5&pid=1.9)"
      ],
      "text/plain": [
       "<IPython.core.display.Markdown object>"
      ]
     },
     "metadata": {},
     "output_type": "display_data"
    },
    {
     "name": "stdout",
     "output_type": "stream",
     "text": [
      "https://tse1-mm.cn.bing.net/th/id/OET.609002688afe4145900fcf56bfc1728d?w=135&h=272&c=7&rs=1&o=5&pid=1.9\n"
     ]
    },
    {
     "data": {
      "text/markdown": [
       "![](https://tse1-mm.cn.bing.net/th/id/OET.609002688afe4145900fcf56bfc1728d?w=135&h=272&c=7&rs=1&o=5&pid=1.9)"
      ],
      "text/plain": [
       "<IPython.core.display.Markdown object>"
      ]
     },
     "metadata": {},
     "output_type": "display_data"
    },
    {
     "name": "stdout",
     "output_type": "stream",
     "text": [
      "https://tse1-mm.cn.bing.net/th/id/OET.3b155f97226d4ce3b8019ca75c37785c?w=135&h=272&c=7&rs=1&o=5&pid=1.9\n"
     ]
    },
    {
     "data": {
      "text/markdown": [
       "![](https://tse1-mm.cn.bing.net/th/id/OET.3b155f97226d4ce3b8019ca75c37785c?w=135&h=272&c=7&rs=1&o=5&pid=1.9)"
      ],
      "text/plain": [
       "<IPython.core.display.Markdown object>"
      ]
     },
     "metadata": {},
     "output_type": "display_data"
    },
    {
     "name": "stdout",
     "output_type": "stream",
     "text": [
      "https://tse1-mm.cn.bing.net/th/id/OET.fc7d18af572249f4815210592b083015?w=135&h=272&c=7&rs=1&o=5&pid=1.9\n"
     ]
    },
    {
     "data": {
      "text/markdown": [
       "![](https://tse1-mm.cn.bing.net/th/id/OET.fc7d18af572249f4815210592b083015?w=135&h=272&c=7&rs=1&o=5&pid=1.9)"
      ],
      "text/plain": [
       "<IPython.core.display.Markdown object>"
      ]
     },
     "metadata": {},
     "output_type": "display_data"
    },
    {
     "name": "stdout",
     "output_type": "stream",
     "text": [
      "https://tse1-mm.cn.bing.net/th/id/OET.dc7d64a2cf314b4cbaa1d8b9314734f7?w=135&h=135&c=7&rs=1&o=5&pid=1.9\n"
     ]
    },
    {
     "data": {
      "text/markdown": [
       "![](https://tse1-mm.cn.bing.net/th/id/OET.dc7d64a2cf314b4cbaa1d8b9314734f7?w=135&h=135&c=7&rs=1&o=5&pid=1.9)"
      ],
      "text/plain": [
       "<IPython.core.display.Markdown object>"
      ]
     },
     "metadata": {},
     "output_type": "display_data"
    },
    {
     "name": "stdout",
     "output_type": "stream",
     "text": [
      "https://tse1-mm.cn.bing.net/th/id/OET.f8cd4861bc504029a90ccc272bbc954d?w=135&h=135&c=7&rs=1&o=5&pid=1.9\n"
     ]
    },
    {
     "data": {
      "text/markdown": [
       "![](https://tse1-mm.cn.bing.net/th/id/OET.f8cd4861bc504029a90ccc272bbc954d?w=135&h=135&c=7&rs=1&o=5&pid=1.9)"
      ],
      "text/plain": [
       "<IPython.core.display.Markdown object>"
      ]
     },
     "metadata": {},
     "output_type": "display_data"
    },
    {
     "name": "stdout",
     "output_type": "stream",
     "text": [
      "https://tse1-mm.cn.bing.net/th/id/OET.5ca4829fee72427b8424d6aead35163a?w=135&h=135&c=7&rs=1&o=5&pid=1.9\n"
     ]
    },
    {
     "data": {
      "text/markdown": [
       "![](https://tse1-mm.cn.bing.net/th/id/OET.5ca4829fee72427b8424d6aead35163a?w=135&h=135&c=7&rs=1&o=5&pid=1.9)"
      ],
      "text/plain": [
       "<IPython.core.display.Markdown object>"
      ]
     },
     "metadata": {},
     "output_type": "display_data"
    },
    {
     "name": "stdout",
     "output_type": "stream",
     "text": [
      "https://tse1-mm.cn.bing.net/th/id/OET.f27e5b857f524c648726b803a44837a4?w=135&h=135&c=7&rs=1&o=5&pid=1.9\n"
     ]
    },
    {
     "data": {
      "text/markdown": [
       "![](https://tse1-mm.cn.bing.net/th/id/OET.f27e5b857f524c648726b803a44837a4?w=135&h=135&c=7&rs=1&o=5&pid=1.9)"
      ],
      "text/plain": [
       "<IPython.core.display.Markdown object>"
      ]
     },
     "metadata": {},
     "output_type": "display_data"
    },
    {
     "name": "stdout",
     "output_type": "stream",
     "text": [
      "https://tse1-mm.cn.bing.net/th/id/OET.d76a305be6db4c9e84c89ea26290b38a?w=272&h=272&c=7&rs=1&o=5&pid=1.9\n"
     ]
    },
    {
     "data": {
      "text/markdown": [
       "![](https://tse1-mm.cn.bing.net/th/id/OET.d76a305be6db4c9e84c89ea26290b38a?w=272&h=272&c=7&rs=1&o=5&pid=1.9)"
      ],
      "text/plain": [
       "<IPython.core.display.Markdown object>"
      ]
     },
     "metadata": {},
     "output_type": "display_data"
    },
    {
     "name": "stdout",
     "output_type": "stream",
     "text": [
      "https://tse1-mm.cn.bing.net/th/id/OET.18da11981db140b88154ab5771455563?w=135&h=272&c=7&rs=1&o=5&pid=1.9\n"
     ]
    },
    {
     "data": {
      "text/markdown": [
       "![](https://tse1-mm.cn.bing.net/th/id/OET.18da11981db140b88154ab5771455563?w=135&h=272&c=7&rs=1&o=5&pid=1.9)"
      ],
      "text/plain": [
       "<IPython.core.display.Markdown object>"
      ]
     },
     "metadata": {},
     "output_type": "display_data"
    },
    {
     "name": "stdout",
     "output_type": "stream",
     "text": [
      "https://tse1-mm.cn.bing.net/th/id/OET.f630c2fbb82147b98b1de22b73918a80?w=135&h=272&c=7&rs=1&o=5&pid=1.9\n"
     ]
    },
    {
     "data": {
      "text/markdown": [
       "![](https://tse1-mm.cn.bing.net/th/id/OET.f630c2fbb82147b98b1de22b73918a80?w=135&h=272&c=7&rs=1&o=5&pid=1.9)"
      ],
      "text/plain": [
       "<IPython.core.display.Markdown object>"
      ]
     },
     "metadata": {},
     "output_type": "display_data"
    },
    {
     "name": "stdout",
     "output_type": "stream",
     "text": [
      "https://tse1-mm.cn.bing.net/th/id/OET.8e621908c31741a0a92f5476c346b6a1?w=135&h=272&c=7&rs=1&o=5&pid=1.9\n"
     ]
    },
    {
     "data": {
      "text/markdown": [
       "![](https://tse1-mm.cn.bing.net/th/id/OET.8e621908c31741a0a92f5476c346b6a1?w=135&h=272&c=7&rs=1&o=5&pid=1.9)"
      ],
      "text/plain": [
       "<IPython.core.display.Markdown object>"
      ]
     },
     "metadata": {},
     "output_type": "display_data"
    },
    {
     "name": "stdout",
     "output_type": "stream",
     "text": [
      "https://tse1-mm.cn.bing.net/th/id/OET.ff87a75f1a114173b0612dbc4e1f8686?w=135&h=272&c=7&rs=1&o=5&pid=1.9\n"
     ]
    },
    {
     "data": {
      "text/markdown": [
       "![](https://tse1-mm.cn.bing.net/th/id/OET.ff87a75f1a114173b0612dbc4e1f8686?w=135&h=272&c=7&rs=1&o=5&pid=1.9)"
      ],
      "text/plain": [
       "<IPython.core.display.Markdown object>"
      ]
     },
     "metadata": {},
     "output_type": "display_data"
    },
    {
     "name": "stdout",
     "output_type": "stream",
     "text": [
      "https://tse1-mm.cn.bing.net/th/id/OET.641eeea17d2a4973b53e3c83b750772a?w=135&h=272&c=7&rs=1&o=5&pid=1.9\n"
     ]
    },
    {
     "data": {
      "text/markdown": [
       "![](https://tse1-mm.cn.bing.net/th/id/OET.641eeea17d2a4973b53e3c83b750772a?w=135&h=272&c=7&rs=1&o=5&pid=1.9)"
      ],
      "text/plain": [
       "<IPython.core.display.Markdown object>"
      ]
     },
     "metadata": {},
     "output_type": "display_data"
    },
    {
     "name": "stdout",
     "output_type": "stream",
     "text": [
      "https://tse1-mm.cn.bing.net/th/id/OET.5435c90c0a8b4deab3971d04a029a8c4?w=135&h=272&c=7&rs=1&o=5&pid=1.9\n"
     ]
    },
    {
     "data": {
      "text/markdown": [
       "![](https://tse1-mm.cn.bing.net/th/id/OET.5435c90c0a8b4deab3971d04a029a8c4?w=135&h=272&c=7&rs=1&o=5&pid=1.9)"
      ],
      "text/plain": [
       "<IPython.core.display.Markdown object>"
      ]
     },
     "metadata": {},
     "output_type": "display_data"
    },
    {
     "name": "stdout",
     "output_type": "stream",
     "text": [
      "https://tse1-mm.cn.bing.net/th/id/OET.d69bc419d1714d3a8dbde7cb56a21d3a?w=135&h=135&c=7&rs=1&o=5&pid=1.9\n"
     ]
    },
    {
     "data": {
      "text/markdown": [
       "![](https://tse1-mm.cn.bing.net/th/id/OET.d69bc419d1714d3a8dbde7cb56a21d3a?w=135&h=135&c=7&rs=1&o=5&pid=1.9)"
      ],
      "text/plain": [
       "<IPython.core.display.Markdown object>"
      ]
     },
     "metadata": {},
     "output_type": "display_data"
    },
    {
     "name": "stdout",
     "output_type": "stream",
     "text": [
      "https://tse1-mm.cn.bing.net/th/id/OET.509714ed371341c2ae7538b1645a14c7?w=135&h=135&c=7&rs=1&o=5&pid=1.9\n"
     ]
    },
    {
     "data": {
      "text/markdown": [
       "![](https://tse1-mm.cn.bing.net/th/id/OET.509714ed371341c2ae7538b1645a14c7?w=135&h=135&c=7&rs=1&o=5&pid=1.9)"
      ],
      "text/plain": [
       "<IPython.core.display.Markdown object>"
      ]
     },
     "metadata": {},
     "output_type": "display_data"
    },
    {
     "name": "stdout",
     "output_type": "stream",
     "text": [
      "https://tse1-mm.cn.bing.net/th/id/OET.fa414e4eb8aa4969b1e7160c78811e1a?w=135&h=135&c=7&rs=1&o=5&pid=1.9\n"
     ]
    },
    {
     "data": {
      "text/markdown": [
       "![](https://tse1-mm.cn.bing.net/th/id/OET.fa414e4eb8aa4969b1e7160c78811e1a?w=135&h=135&c=7&rs=1&o=5&pid=1.9)"
      ],
      "text/plain": [
       "<IPython.core.display.Markdown object>"
      ]
     },
     "metadata": {},
     "output_type": "display_data"
    },
    {
     "name": "stdout",
     "output_type": "stream",
     "text": [
      "https://tse1-mm.cn.bing.net/th/id/OET.68a825be6b82468e87d594ca5cea921d?w=135&h=135&c=7&rs=1&o=5&pid=1.9\n"
     ]
    },
    {
     "data": {
      "text/markdown": [
       "![](https://tse1-mm.cn.bing.net/th/id/OET.68a825be6b82468e87d594ca5cea921d?w=135&h=135&c=7&rs=1&o=5&pid=1.9)"
      ],
      "text/plain": [
       "<IPython.core.display.Markdown object>"
      ]
     },
     "metadata": {},
     "output_type": "display_data"
    },
    {
     "name": "stdout",
     "output_type": "stream",
     "text": [
      "https://tse1-mm.cn.bing.net/th/id/OET.6570bfa2065f4f2c8074b99429c29e74?w=272&h=272&c=7&rs=1&o=5&pid=1.9\n"
     ]
    },
    {
     "data": {
      "text/markdown": [
       "![](https://tse1-mm.cn.bing.net/th/id/OET.6570bfa2065f4f2c8074b99429c29e74?w=272&h=272&c=7&rs=1&o=5&pid=1.9)"
      ],
      "text/plain": [
       "<IPython.core.display.Markdown object>"
      ]
     },
     "metadata": {},
     "output_type": "display_data"
    },
    {
     "name": "stdout",
     "output_type": "stream",
     "text": [
      "https://tse1-mm.cn.bing.net/th/id/OET.548058d6281c4ffa9d571f839910f32a?w=272&h=135&c=7&rs=1&o=5&pid=1.9\n"
     ]
    },
    {
     "data": {
      "text/markdown": [
       "![](https://tse1-mm.cn.bing.net/th/id/OET.548058d6281c4ffa9d571f839910f32a?w=272&h=135&c=7&rs=1&o=5&pid=1.9)"
      ],
      "text/plain": [
       "<IPython.core.display.Markdown object>"
      ]
     },
     "metadata": {},
     "output_type": "display_data"
    },
    {
     "name": "stdout",
     "output_type": "stream",
     "text": [
      "https://tse1-mm.cn.bing.net/th/id/OET.80281b69d95b48bc8a466fcdffad5173?w=272&h=135&c=7&rs=1&o=5&pid=1.9\n"
     ]
    },
    {
     "data": {
      "text/markdown": [
       "![](https://tse1-mm.cn.bing.net/th/id/OET.80281b69d95b48bc8a466fcdffad5173?w=272&h=135&c=7&rs=1&o=5&pid=1.9)"
      ],
      "text/plain": [
       "<IPython.core.display.Markdown object>"
      ]
     },
     "metadata": {},
     "output_type": "display_data"
    },
    {
     "name": "stdout",
     "output_type": "stream",
     "text": [
      "https://tse1-mm.cn.bing.net/th/id/OET.1eadcb1402d74bb295fff97db1bf6600?w=272&h=135&c=7&rs=1&o=5&pid=1.9\n"
     ]
    },
    {
     "data": {
      "text/markdown": [
       "![](https://tse1-mm.cn.bing.net/th/id/OET.1eadcb1402d74bb295fff97db1bf6600?w=272&h=135&c=7&rs=1&o=5&pid=1.9)"
      ],
      "text/plain": [
       "<IPython.core.display.Markdown object>"
      ]
     },
     "metadata": {},
     "output_type": "display_data"
    },
    {
     "name": "stdout",
     "output_type": "stream",
     "text": [
      "https://tse1-mm.cn.bing.net/th/id/OET.de53e76d3f3d4a479eb8739b74f81440?w=272&h=135&c=7&rs=1&o=5&pid=1.9\n"
     ]
    },
    {
     "data": {
      "text/markdown": [
       "![](https://tse1-mm.cn.bing.net/th/id/OET.de53e76d3f3d4a479eb8739b74f81440?w=272&h=135&c=7&rs=1&o=5&pid=1.9)"
      ],
      "text/plain": [
       "<IPython.core.display.Markdown object>"
      ]
     },
     "metadata": {},
     "output_type": "display_data"
    },
    {
     "name": "stdout",
     "output_type": "stream",
     "text": [
      "https://tse1-mm.cn.bing.net/th/id/OET.e19d34f3918d4fa982966ba08fd4c07d?w=272&h=135&c=7&rs=1&o=5&pid=1.9\n"
     ]
    },
    {
     "data": {
      "text/markdown": [
       "![](https://tse1-mm.cn.bing.net/th/id/OET.e19d34f3918d4fa982966ba08fd4c07d?w=272&h=135&c=7&rs=1&o=5&pid=1.9)"
      ],
      "text/plain": [
       "<IPython.core.display.Markdown object>"
      ]
     },
     "metadata": {},
     "output_type": "display_data"
    },
    {
     "name": "stdout",
     "output_type": "stream",
     "text": [
      "https://tse1-mm.cn.bing.net/th/id/OET.0a8ed06811b549b48a1917ad0ec2e055?w=272&h=135&c=7&rs=1&o=5&pid=1.9\n"
     ]
    },
    {
     "data": {
      "text/markdown": [
       "![](https://tse1-mm.cn.bing.net/th/id/OET.0a8ed06811b549b48a1917ad0ec2e055?w=272&h=135&c=7&rs=1&o=5&pid=1.9)"
      ],
      "text/plain": [
       "<IPython.core.display.Markdown object>"
      ]
     },
     "metadata": {},
     "output_type": "display_data"
    },
    {
     "name": "stdout",
     "output_type": "stream",
     "text": [
      "https://tse1-mm.cn.bing.net/th/id/OET.4ef5bf6f0ae1423abe844d8242f55a80?w=135&h=135&c=7&rs=1&o=5&pid=1.9\n"
     ]
    },
    {
     "data": {
      "text/markdown": [
       "![](https://tse1-mm.cn.bing.net/th/id/OET.4ef5bf6f0ae1423abe844d8242f55a80?w=135&h=135&c=7&rs=1&o=5&pid=1.9)"
      ],
      "text/plain": [
       "<IPython.core.display.Markdown object>"
      ]
     },
     "metadata": {},
     "output_type": "display_data"
    },
    {
     "name": "stdout",
     "output_type": "stream",
     "text": [
      "https://tse1-mm.cn.bing.net/th/id/OET.3c15354dfdd047ab93fe96f196ad07cb?w=135&h=135&c=7&rs=1&o=5&pid=1.9\n"
     ]
    },
    {
     "data": {
      "text/markdown": [
       "![](https://tse1-mm.cn.bing.net/th/id/OET.3c15354dfdd047ab93fe96f196ad07cb?w=135&h=135&c=7&rs=1&o=5&pid=1.9)"
      ],
      "text/plain": [
       "<IPython.core.display.Markdown object>"
      ]
     },
     "metadata": {},
     "output_type": "display_data"
    },
    {
     "name": "stdout",
     "output_type": "stream",
     "text": [
      "https://tse1-mm.cn.bing.net/th/id/OET.014e47747fd744729136663e06d30322?w=135&h=135&c=7&rs=1&o=5&pid=1.9\n"
     ]
    },
    {
     "data": {
      "text/markdown": [
       "![](https://tse1-mm.cn.bing.net/th/id/OET.014e47747fd744729136663e06d30322?w=135&h=135&c=7&rs=1&o=5&pid=1.9)"
      ],
      "text/plain": [
       "<IPython.core.display.Markdown object>"
      ]
     },
     "metadata": {},
     "output_type": "display_data"
    },
    {
     "name": "stdout",
     "output_type": "stream",
     "text": [
      "https://tse1-mm.cn.bing.net/th/id/OET.311ab2c108ce49efb855fed17cae87f8?w=135&h=135&c=7&rs=1&o=5&pid=1.9\n"
     ]
    },
    {
     "data": {
      "text/markdown": [
       "![](https://tse1-mm.cn.bing.net/th/id/OET.311ab2c108ce49efb855fed17cae87f8?w=135&h=135&c=7&rs=1&o=5&pid=1.9)"
      ],
      "text/plain": [
       "<IPython.core.display.Markdown object>"
      ]
     },
     "metadata": {},
     "output_type": "display_data"
    },
    {
     "name": "stdout",
     "output_type": "stream",
     "text": [
      "https://tse1-mm.cn.bing.net/th/id/OET.13be13dfa85948e49ee8fbc70403d6c5?w=272&h=272&c=7&rs=1&o=5&pid=1.9\n"
     ]
    },
    {
     "data": {
      "text/markdown": [
       "![](https://tse1-mm.cn.bing.net/th/id/OET.13be13dfa85948e49ee8fbc70403d6c5?w=272&h=272&c=7&rs=1&o=5&pid=1.9)"
      ],
      "text/plain": [
       "<IPython.core.display.Markdown object>"
      ]
     },
     "metadata": {},
     "output_type": "display_data"
    },
    {
     "name": "stdout",
     "output_type": "stream",
     "text": [
      "https://tse1-mm.cn.bing.net/th/id/OET.c278f8963dfe49ff9d896dac6cd4db70?w=272&h=135&c=7&rs=1&o=5&pid=1.9\n"
     ]
    },
    {
     "data": {
      "text/markdown": [
       "![](https://tse1-mm.cn.bing.net/th/id/OET.c278f8963dfe49ff9d896dac6cd4db70?w=272&h=135&c=7&rs=1&o=5&pid=1.9)"
      ],
      "text/plain": [
       "<IPython.core.display.Markdown object>"
      ]
     },
     "metadata": {},
     "output_type": "display_data"
    },
    {
     "name": "stdout",
     "output_type": "stream",
     "text": [
      "https://tse1-mm.cn.bing.net/th/id/OET.e662e33e5f61405ea35606f21bebd306?w=272&h=135&c=7&rs=1&o=5&pid=1.9\n"
     ]
    },
    {
     "data": {
      "text/markdown": [
       "![](https://tse1-mm.cn.bing.net/th/id/OET.e662e33e5f61405ea35606f21bebd306?w=272&h=135&c=7&rs=1&o=5&pid=1.9)"
      ],
      "text/plain": [
       "<IPython.core.display.Markdown object>"
      ]
     },
     "metadata": {},
     "output_type": "display_data"
    },
    {
     "name": "stdout",
     "output_type": "stream",
     "text": [
      "https://tse1-mm.cn.bing.net/th/id/OET.28fd0f0ab6344e5cb21400966cb1bd4d?w=272&h=135&c=7&rs=1&o=5&pid=1.9\n"
     ]
    },
    {
     "data": {
      "text/markdown": [
       "![](https://tse1-mm.cn.bing.net/th/id/OET.28fd0f0ab6344e5cb21400966cb1bd4d?w=272&h=135&c=7&rs=1&o=5&pid=1.9)"
      ],
      "text/plain": [
       "<IPython.core.display.Markdown object>"
      ]
     },
     "metadata": {},
     "output_type": "display_data"
    },
    {
     "name": "stdout",
     "output_type": "stream",
     "text": [
      "https://tse1-mm.cn.bing.net/th/id/OET.925b40d875fa4de792eafca813066152?w=272&h=135&c=7&rs=1&o=5&pid=1.9\n"
     ]
    },
    {
     "data": {
      "text/markdown": [
       "![](https://tse1-mm.cn.bing.net/th/id/OET.925b40d875fa4de792eafca813066152?w=272&h=135&c=7&rs=1&o=5&pid=1.9)"
      ],
      "text/plain": [
       "<IPython.core.display.Markdown object>"
      ]
     },
     "metadata": {},
     "output_type": "display_data"
    },
    {
     "name": "stdout",
     "output_type": "stream",
     "text": [
      "https://tse1-mm.cn.bing.net/th/id/OET.52f4abd4696b4130953af7affa14f8a8?w=272&h=135&c=7&rs=1&o=5&pid=1.9\n"
     ]
    },
    {
     "data": {
      "text/markdown": [
       "![](https://tse1-mm.cn.bing.net/th/id/OET.52f4abd4696b4130953af7affa14f8a8?w=272&h=135&c=7&rs=1&o=5&pid=1.9)"
      ],
      "text/plain": [
       "<IPython.core.display.Markdown object>"
      ]
     },
     "metadata": {},
     "output_type": "display_data"
    },
    {
     "name": "stdout",
     "output_type": "stream",
     "text": [
      "https://tse1-mm.cn.bing.net/th/id/OET.e709992723d94bfcbdea2455d661def0?w=272&h=135&c=7&rs=1&o=5&pid=1.9\n"
     ]
    },
    {
     "data": {
      "text/markdown": [
       "![](https://tse1-mm.cn.bing.net/th/id/OET.e709992723d94bfcbdea2455d661def0?w=272&h=135&c=7&rs=1&o=5&pid=1.9)"
      ],
      "text/plain": [
       "<IPython.core.display.Markdown object>"
      ]
     },
     "metadata": {},
     "output_type": "display_data"
    },
    {
     "name": "stdout",
     "output_type": "stream",
     "text": [
      "https://tse1-mm.cn.bing.net/th/id/OET.8f8f61c7a67944758e1e85de7c4cfabf?w=135&h=135&c=7&rs=1&o=5&pid=1.9\n"
     ]
    },
    {
     "data": {
      "text/markdown": [
       "![](https://tse1-mm.cn.bing.net/th/id/OET.8f8f61c7a67944758e1e85de7c4cfabf?w=135&h=135&c=7&rs=1&o=5&pid=1.9)"
      ],
      "text/plain": [
       "<IPython.core.display.Markdown object>"
      ]
     },
     "metadata": {},
     "output_type": "display_data"
    },
    {
     "name": "stdout",
     "output_type": "stream",
     "text": [
      "https://tse1-mm.cn.bing.net/th/id/OET.d8fd1f230e9e49e397515b081766c2e2?w=135&h=135&c=7&rs=1&o=5&pid=1.9\n"
     ]
    },
    {
     "data": {
      "text/markdown": [
       "![](https://tse1-mm.cn.bing.net/th/id/OET.d8fd1f230e9e49e397515b081766c2e2?w=135&h=135&c=7&rs=1&o=5&pid=1.9)"
      ],
      "text/plain": [
       "<IPython.core.display.Markdown object>"
      ]
     },
     "metadata": {},
     "output_type": "display_data"
    },
    {
     "name": "stdout",
     "output_type": "stream",
     "text": [
      "https://tse1-mm.cn.bing.net/th/id/OET.bc987d4922c64b6a8c448cc6b2cb99c1?w=135&h=135&c=7&rs=1&o=5&pid=1.9\n"
     ]
    },
    {
     "data": {
      "text/markdown": [
       "![](https://tse1-mm.cn.bing.net/th/id/OET.bc987d4922c64b6a8c448cc6b2cb99c1?w=135&h=135&c=7&rs=1&o=5&pid=1.9)"
      ],
      "text/plain": [
       "<IPython.core.display.Markdown object>"
      ]
     },
     "metadata": {},
     "output_type": "display_data"
    },
    {
     "name": "stdout",
     "output_type": "stream",
     "text": [
      "https://tse1-mm.cn.bing.net/th/id/OET.a878a7ad236549fe89ec1eb1b1bffd0b?w=135&h=135&c=7&rs=1&o=5&pid=1.9\n"
     ]
    },
    {
     "data": {
      "text/markdown": [
       "![](https://tse1-mm.cn.bing.net/th/id/OET.a878a7ad236549fe89ec1eb1b1bffd0b?w=135&h=135&c=7&rs=1&o=5&pid=1.9)"
      ],
      "text/plain": [
       "<IPython.core.display.Markdown object>"
      ]
     },
     "metadata": {},
     "output_type": "display_data"
    },
    {
     "name": "stdout",
     "output_type": "stream",
     "text": [
      "https://tse1-mm.cn.bing.net/th/id/OET.e467266179b6400296e48a979d03e696?w=272&h=272&c=7&rs=1&o=5&pid=1.9\n"
     ]
    },
    {
     "data": {
      "text/markdown": [
       "![](https://tse1-mm.cn.bing.net/th/id/OET.e467266179b6400296e48a979d03e696?w=272&h=272&c=7&rs=1&o=5&pid=1.9)"
      ],
      "text/plain": [
       "<IPython.core.display.Markdown object>"
      ]
     },
     "metadata": {},
     "output_type": "display_data"
    },
    {
     "name": "stdout",
     "output_type": "stream",
     "text": [
      "https://tse1-mm.cn.bing.net/th/id/OET.9c8f4475433546bb9524895b1634db32?w=272&h=135&c=7&rs=1&o=5&pid=1.9\n"
     ]
    },
    {
     "data": {
      "text/markdown": [
       "![](https://tse1-mm.cn.bing.net/th/id/OET.9c8f4475433546bb9524895b1634db32?w=272&h=135&c=7&rs=1&o=5&pid=1.9)"
      ],
      "text/plain": [
       "<IPython.core.display.Markdown object>"
      ]
     },
     "metadata": {},
     "output_type": "display_data"
    },
    {
     "name": "stdout",
     "output_type": "stream",
     "text": [
      "https://tse1-mm.cn.bing.net/th/id/OET.b910d62ca7224b48b799485ff633fbe9?w=272&h=135&c=7&rs=1&o=5&pid=1.9\n"
     ]
    },
    {
     "data": {
      "text/markdown": [
       "![](https://tse1-mm.cn.bing.net/th/id/OET.b910d62ca7224b48b799485ff633fbe9?w=272&h=135&c=7&rs=1&o=5&pid=1.9)"
      ],
      "text/plain": [
       "<IPython.core.display.Markdown object>"
      ]
     },
     "metadata": {},
     "output_type": "display_data"
    },
    {
     "name": "stdout",
     "output_type": "stream",
     "text": [
      "https://tse1-mm.cn.bing.net/th/id/OET.d88228c37ad848e4975c4725cdb24983?w=272&h=135&c=7&rs=1&o=5&pid=1.9\n"
     ]
    },
    {
     "data": {
      "text/markdown": [
       "![](https://tse1-mm.cn.bing.net/th/id/OET.d88228c37ad848e4975c4725cdb24983?w=272&h=135&c=7&rs=1&o=5&pid=1.9)"
      ],
      "text/plain": [
       "<IPython.core.display.Markdown object>"
      ]
     },
     "metadata": {},
     "output_type": "display_data"
    },
    {
     "name": "stdout",
     "output_type": "stream",
     "text": [
      "https://tse1-mm.cn.bing.net/th/id/OET.c0beeb3881cc4f7fa28f0487ec2da039?w=272&h=135&c=7&rs=1&o=5&pid=1.9\n"
     ]
    },
    {
     "data": {
      "text/markdown": [
       "![](https://tse1-mm.cn.bing.net/th/id/OET.c0beeb3881cc4f7fa28f0487ec2da039?w=272&h=135&c=7&rs=1&o=5&pid=1.9)"
      ],
      "text/plain": [
       "<IPython.core.display.Markdown object>"
      ]
     },
     "metadata": {},
     "output_type": "display_data"
    },
    {
     "name": "stdout",
     "output_type": "stream",
     "text": [
      "https://tse1-mm.cn.bing.net/th/id/OET.45d8eb27b73b43719df3ea23568cc299?w=272&h=135&c=7&rs=1&o=5&pid=1.9\n"
     ]
    },
    {
     "data": {
      "text/markdown": [
       "![](https://tse1-mm.cn.bing.net/th/id/OET.45d8eb27b73b43719df3ea23568cc299?w=272&h=135&c=7&rs=1&o=5&pid=1.9)"
      ],
      "text/plain": [
       "<IPython.core.display.Markdown object>"
      ]
     },
     "metadata": {},
     "output_type": "display_data"
    },
    {
     "name": "stdout",
     "output_type": "stream",
     "text": [
      "https://tse1-mm.cn.bing.net/th/id/OET.7ce6dc322d2d4ff0970c36b17fcf363c?w=272&h=135&c=7&rs=1&o=5&pid=1.9\n"
     ]
    },
    {
     "data": {
      "text/markdown": [
       "![](https://tse1-mm.cn.bing.net/th/id/OET.7ce6dc322d2d4ff0970c36b17fcf363c?w=272&h=135&c=7&rs=1&o=5&pid=1.9)"
      ],
      "text/plain": [
       "<IPython.core.display.Markdown object>"
      ]
     },
     "metadata": {},
     "output_type": "display_data"
    },
    {
     "name": "stdout",
     "output_type": "stream",
     "text": [
      "https://tse1-mm.cn.bing.net/th/id/OET.ecf975724f74437aa9f9ad1463df0cb0?w=135&h=135&c=7&rs=1&o=5&pid=1.9\n"
     ]
    },
    {
     "data": {
      "text/markdown": [
       "![](https://tse1-mm.cn.bing.net/th/id/OET.ecf975724f74437aa9f9ad1463df0cb0?w=135&h=135&c=7&rs=1&o=5&pid=1.9)"
      ],
      "text/plain": [
       "<IPython.core.display.Markdown object>"
      ]
     },
     "metadata": {},
     "output_type": "display_data"
    },
    {
     "name": "stdout",
     "output_type": "stream",
     "text": [
      "https://tse1-mm.cn.bing.net/th/id/OET.28852aa91ef54138a6945ef6f0954986?w=135&h=135&c=7&rs=1&o=5&pid=1.9\n"
     ]
    },
    {
     "data": {
      "text/markdown": [
       "![](https://tse1-mm.cn.bing.net/th/id/OET.28852aa91ef54138a6945ef6f0954986?w=135&h=135&c=7&rs=1&o=5&pid=1.9)"
      ],
      "text/plain": [
       "<IPython.core.display.Markdown object>"
      ]
     },
     "metadata": {},
     "output_type": "display_data"
    },
    {
     "name": "stdout",
     "output_type": "stream",
     "text": [
      "https://tse1-mm.cn.bing.net/th/id/OET.736ec8974a93411487f3231eec4923bb?w=135&h=135&c=7&rs=1&o=5&pid=1.9\n"
     ]
    },
    {
     "data": {
      "text/markdown": [
       "![](https://tse1-mm.cn.bing.net/th/id/OET.736ec8974a93411487f3231eec4923bb?w=135&h=135&c=7&rs=1&o=5&pid=1.9)"
      ],
      "text/plain": [
       "<IPython.core.display.Markdown object>"
      ]
     },
     "metadata": {},
     "output_type": "display_data"
    },
    {
     "name": "stdout",
     "output_type": "stream",
     "text": [
      "https://tse1-mm.cn.bing.net/th/id/OET.8cccc6ae58de402aabbc4611e041741f?w=135&h=135&c=7&rs=1&o=5&pid=1.9\n"
     ]
    },
    {
     "data": {
      "text/markdown": [
       "![](https://tse1-mm.cn.bing.net/th/id/OET.8cccc6ae58de402aabbc4611e041741f?w=135&h=135&c=7&rs=1&o=5&pid=1.9)"
      ],
      "text/plain": [
       "<IPython.core.display.Markdown object>"
      ]
     },
     "metadata": {},
     "output_type": "display_data"
    },
    {
     "name": "stdout",
     "output_type": "stream",
     "text": [
      "/rs/5g/L7/ic/4907366b/da274d75.png\n"
     ]
    },
    {
     "data": {
      "text/markdown": [
       "![](/rs/5g/L7/ic/4907366b/da274d75.png)"
      ],
      "text/plain": [
       "<IPython.core.display.Markdown object>"
      ]
     },
     "metadata": {},
     "output_type": "display_data"
    }
   ],
   "source": [
    "from requests_html import HTMLSession\n",
    "\n",
    "session = HTMLSession()\n",
    "\n",
    "r = session.get(\"https://cn.bing.com/images/trending\")\n",
    "\n",
    "items = r.html.xpath('//img/@src')\n",
    "\n",
    "for url in items:\n",
    "    print(url)\n",
    "    display(Markdown('![]({url})'.format(url=url)))"
   ]
  },
  {
   "cell_type": "markdown",
   "metadata": {},
   "source": [
    "## 总结你学到什麽新东西？\n",
    "* A 知道了要使用好requests_html模块是学好这门Web数据挖掘课的关键\n",
    "* B Xpath、 CSS selector只是我们去爬取网页的数据时候的工具，还有它们的用法也有些许不同\n",
    "* C absolute_links、find、get它们的使用情况\n",
    "\n",
    "\n",
    "## 总结你想会做什麽？\n",
    "* A 去爬一些自己喜欢的图片\n",
    "* B 找到有用的数据兵放到自己想要的位置\n",
    "* C 拿到数据做成一个有故事情节的文档"
   ]
  },
  {
   "cell_type": "code",
   "execution_count": null,
   "metadata": {},
   "outputs": [],
   "source": []
  }
 ],
 "metadata": {
  "kernelspec": {
   "display_name": "Python 3",
   "language": "python",
   "name": "python3"
  },
  "language_info": {
   "codemirror_mode": {
    "name": "ipython",
    "version": 3
   },
   "file_extension": ".py",
   "mimetype": "text/x-python",
   "name": "python",
   "nbconvert_exporter": "python",
   "pygments_lexer": "ipython3",
   "version": "3.7.3"
  },
  "toc": {
   "base_numbering": 1,
   "nav_menu": {},
   "number_sections": true,
   "sideBar": true,
   "skip_h1_title": false,
   "title_cell": "Table of Contents",
   "title_sidebar": "Contents",
   "toc_cell": false,
   "toc_position": {},
   "toc_section_display": true,
   "toc_window_display": false
  }
 },
 "nbformat": 4,
 "nbformat_minor": 2
}
